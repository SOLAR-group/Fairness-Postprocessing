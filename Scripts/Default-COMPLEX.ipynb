{
 "cells": [
  {
   "cell_type": "code",
   "execution_count": 1,
   "metadata": {},
   "outputs": [],
   "source": [
    "import sys\n",
    "sys.path.append(\"../\")\n",
    "import warnings\n",
    "warnings.filterwarnings('ignore')\n",
    "import numpy as np\n",
    "import pandas as pd\n",
    "import os\n",
    "import argparse\n",
    "import random\n",
    "import tqdm\n",
    "from aif360.metrics import BinaryLabelDatasetMetric\n",
    "from aif360.metrics import ClassificationMetric\n",
    "from sklearn.preprocessing import StandardScaler\n",
    "\n",
    "from aif360.datasets import AdultDataset, GermanDataset, CompasDataset\n",
    "from utility import get_data,write_to_file\n",
    "from sklearn.base import clone\n",
    "from sklearn import tree\n",
    "from sklearn.ensemble import RandomForestClassifier\n",
    "from sklearn.ensemble import GradientBoostingClassifier\n",
    "import copy\n",
    "from sklearn.tree._tree import TREE_LEAF\n",
    "import tqdm"
   ]
  },
  {
   "cell_type": "code",
   "execution_count": 6,
   "metadata": {
    "scrolled": true
   },
   "outputs": [],
   "source": [
    "dataset_used = \"meps19\" # \"adult\", \"german\", \"compas\" ,\"meps19\"\n",
    "attr = \"race\"\n",
    "trials = 50\n",
    "dataset_orig, privileged_groups,unprivileged_groups,optim_options = get_data(dataset_used, attr)"
   ]
  },
  {
   "cell_type": "code",
   "execution_count": 3,
   "metadata": {},
   "outputs": [],
   "source": [
    "def get_metrics(clf,test,test_pred,unprivileged_groups,privileged_groups):\n",
    "    pred = clf.predict(test.features).reshape(-1,1)\n",
    "\n",
    "    #dataset_orig_test_pred = test.copy(deepcopy=True)\n",
    "    test_pred.labels = pred\n",
    "    class_metric = ClassificationMetric(test, test_pred,\n",
    "                         unprivileged_groups=unprivileged_groups, privileged_groups=privileged_groups)\n",
    "    stat = abs(class_metric.statistical_parity_difference())\n",
    "    aod = abs(class_metric.average_abs_odds_difference())\n",
    "    disp = abs(1-class_metric.disparate_impact())\n",
    "    eod = abs(class_metric.equal_opportunity_difference())\n",
    "    acc = class_metric.accuracy()\n",
    "    return acc,stat,disp,aod,eod"
   ]
  },
  {
   "cell_type": "code",
   "execution_count": 7,
   "metadata": {},
   "outputs": [
    {
     "name": "stderr",
     "output_type": "stream",
     "text": [
      "100%|██████████████████████████████████████████████████████████████████████████████████| 50/50 [05:09<00:00,  6.19s/it]\n"
     ]
    },
    {
     "data": {
      "text/plain": [
       "array([0.83831022, 0.12330756, 0.64563894, 0.10900563, 0.16761354])"
      ]
     },
     "execution_count": 7,
     "metadata": {},
     "output_type": "execute_result"
    }
   ],
   "source": [
    "data = []\n",
    "for t in tqdm.tqdm(range(trials)):\n",
    "    np.random.seed(t)\n",
    "    dataset_orig_train, dataset_orig_test = dataset_orig.split([0.7], shuffle=True)\n",
    "    dataset_orig_test,dataset_orig_valid = dataset_orig_test.split([0.5], shuffle=True)\n",
    "    dataset_orig_test_pred = dataset_orig_test.copy(deepcopy=True)\n",
    "    dataset_orig_train_pred = dataset_orig_train.copy(deepcopy=True)\n",
    "    dataset_orig_valid_pred = dataset_orig_valid.copy(deepcopy=True)\n",
    "    clf = GradientBoostingClassifier(random_state=1)\n",
    "    clf = clf.fit(dataset_orig_train.features, dataset_orig_train.labels)\n",
    "    train_acc,train_stat,train_disp,train_aod,train_eod = get_metrics(clf,dataset_orig_train,dataset_orig_train_pred,unprivileged_groups,privileged_groups)\n",
    "    test_acc,test_stat,test_disp,test_aod,test_eod = get_metrics(clf,dataset_orig_test,dataset_orig_test_pred,unprivileged_groups,privileged_groups)\n",
    "    valid_acc,valid_stat,valid_disp,valid_aod,valid_eod = get_metrics(clf,dataset_orig_valid,dataset_orig_valid_pred,unprivileged_groups,privileged_groups)\n",
    "    data.append([test_acc,test_stat,test_disp,test_aod,test_eod])\n",
    "data = np.array(data)\n",
    "np.mean(data,axis = 0)"
   ]
  },
  {
   "cell_type": "code",
   "execution_count": 8,
   "metadata": {
    "scrolled": true
   },
   "outputs": [
    {
     "name": "stdout",
     "output_type": "stream",
     "text": [
      "0.8326608432620403 0.06960982356391737 0.4718741808723461 0.028541326956325143 0.019897946569812364\n",
      "0.8371991285614381 0.1370066972475993 0.7022076455479667 0.13165983589768182 0.19449911095001715\n",
      "0.8366732847700943 0.12356671109017289 0.6609353190978793 0.1192984124109927 0.19002841646031537\n",
      "0.8354024303479668 0.1125244718084322 0.579340811397663 0.11665906088056513 0.2038281865927805\n",
      "0.8328693433486604 0.1281651555055861 0.6412183574265267 0.10007112323887041 0.14558195208969915\n",
      "0.8465861883320193 0.1220983878152324 0.6586066679613023 0.1235152286140643 0.19272042367041997\n",
      "0.8504662307925062 0.12638220505875006 0.6382673168049229 0.12133073592941435 0.20723083636737671\n",
      "0.8375845292179679 0.10523184064540356 0.6061536579415211 0.08647123847764915 0.139456574892513\n",
      "0.8420930660750732 0.1224468766961717 0.6588433406881831 0.13957833363225086 0.21924114228783986\n",
      "0.8513399464132557 0.10878165860240589 0.6022309309250682 0.10650108034023206 0.17808386823816663\n",
      "0.8431739412556495 0.10845446423346519 0.5715389459945162 0.07697303408730465 0.10532514577597835\n",
      "0.8459719390453371 0.08641398040560282 0.5634178517096732 0.06630551099116257 0.10316935605171951\n",
      "0.8500254004237983 0.11875265834868108 0.6295172882690047 0.12255259027213333 0.20506254712293626\n",
      "0.8398374785182425 0.1386661539292858 0.6959641771128371 0.14936041185742996 0.24437983947524688\n",
      "0.8308099512597145 0.1178355739753272 0.6144750574868607 0.09497482943396324 0.14050250872240722\n",
      "0.8180165753754693 0.11436465333802852 0.6193487654841171 0.08151532812087553 0.13159752142084474\n",
      "0.8300026856016447 0.12249620718922086 0.6574066901404378 0.09636585932655395 0.12516942063289982\n",
      "0.8249208852701432 0.14393678162695925 0.7001589001578847 0.1393437378442111 0.23149922616104907\n",
      "0.8275393809715508 0.13501483526358993 0.6864926011255743 0.12125360896438116 0.1881017295860411\n",
      "0.8357879125512162 0.11926189692812533 0.657598938602229 0.11153349231946603 0.18517800646113192\n",
      "0.8323688950949977 0.12886779291385678 0.6103069169890742 0.08474908166517003 0.1024430963849417\n",
      "0.8392499325840869 0.13930895227131102 0.6910087488623304 0.1295829349971908 0.20024453997770048\n",
      "0.8461211522449321 0.12376243449679952 0.6776215414517407 0.08718395835879436 0.12322819677368707\n",
      "0.8430882034190327 0.1646017622769162 0.7585124071504452 0.1508038260389318 0.2198543102712342\n",
      "0.8477802816506292 0.13938435644434322 0.732168649381649 0.11900262151542984 0.19300674536282503\n",
      "0.8405455941661961 0.12852686661944043 0.6361522675641671 0.09661663544294677 0.13643301199882935\n",
      "0.8436719722802196 0.1111319325892603 0.5926697539426584 0.07498509714664203 0.1067105510520368\n",
      "0.8367287753672984 0.12881055637011257 0.7107686316937757 0.14856272546437194 0.25857619158692524\n",
      "0.8466519926332284 0.16382875376642353 0.7752772398280747 0.16894918587243263 0.2714388021212289\n",
      "0.8216362631398401 0.11830672031434547 0.620358567986947 0.11896351616782494 0.18694235923696173\n",
      "0.8583994032276373 0.12421677880851761 0.6627263285712828 0.13675980747561395 0.23722138443063467\n",
      "0.8325629129661816 0.11392724134270676 0.6205451344016255 0.072514375128722 0.11686930298468406\n",
      "0.8264957043338111 0.13002559216613724 0.6690433922110386 0.10680527807634028 0.13875520461428142\n",
      "0.8373148047160516 0.11057797871524891 0.6291458831367087 0.10010056304901167 0.16027729732466234\n",
      "0.838046904976601 0.11970256271338012 0.6330161863626904 0.08516724851654225 0.11144501268179974\n",
      "0.838177903577569 0.12132348062132643 0.6463281352264749 0.07651560193464632 0.08526433188409221\n",
      "0.8421844789877863 0.1297930574676702 0.6390381990022158 0.10956326604851534 0.16087395504885338\n",
      "0.853002547848834 0.10238311716083132 0.5982129530131104 0.10438313610905961 0.17326477797633594\n",
      "0.8383282186224825 0.15999313944384397 0.7379113055928163 0.14421818788156252 0.2095423527302342\n",
      "0.8447489024833019 0.131436096603392 0.6462786583315209 0.14112864601554787 0.23107880270799047\n",
      "0.8333438272828156 0.12098131377897045 0.6075809023279521 0.08450952802940256 0.11503689179361892\n",
      "0.8363328442641375 0.1181893132597038 0.6173527254283757 0.07811974540637776 0.11416662207303435\n",
      "0.8230881104645429 0.12874928572927358 0.6836769120122475 0.10770079050378832 0.15034387881969102\n",
      "0.8344822986933392 0.1107111283730982 0.6056720788297357 0.08837608370670486 0.11885239549200333\n",
      "0.8447153194992012 0.12625539208140332 0.6450753042014995 0.11005478781036816 0.16657992731107857\n",
      "0.8476266574441826 0.11006860401755682 0.6015749794822025 0.13128548233571416 0.24162433750459256\n",
      "0.8406448323505656 0.1270927343834142 0.6588096061205482 0.10416558372651727 0.14257768936077675\n",
      "0.8232137598383451 0.1349950353725632 0.6752958587673668 0.13086166287992615 0.21301325983301211\n",
      "0.8247198452168958 0.1416581416216521 0.7088573026608309 0.1477486872609905 0.22731616390541698\n",
      "0.8512775277451142 0.09575675793163177 0.57536292353083 0.077098522492285 0.11714179928494056\n"
     ]
    }
   ],
   "source": [
    "for row in data:\n",
    "    print (*row)"
   ]
  },
  {
   "cell_type": "code",
   "execution_count": 5,
   "metadata": {},
   "outputs": [
    {
     "data": {
      "text/plain": [
       "array([0.0091155 , 0.01691314, 0.06547371, 0.02788286, 0.05333622])"
      ]
     },
     "execution_count": 5,
     "metadata": {},
     "output_type": "execute_result"
    }
   ],
   "source": [
    "np.std(data,axis = 0)"
   ]
  }
 ],
 "metadata": {
  "kernelspec": {
   "display_name": "Python 3 (ipykernel)",
   "language": "python",
   "name": "python3"
  },
  "language_info": {
   "codemirror_mode": {
    "name": "ipython",
    "version": 3
   },
   "file_extension": ".py",
   "mimetype": "text/x-python",
   "name": "python",
   "nbconvert_exporter": "python",
   "pygments_lexer": "ipython3",
   "version": "3.9.12"
  }
 },
 "nbformat": 4,
 "nbformat_minor": 4
}
