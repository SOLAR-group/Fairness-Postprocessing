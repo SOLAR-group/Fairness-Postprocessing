{
 "cells": [
  {
   "cell_type": "markdown",
   "metadata": {},
   "source": [
    "# 1) Import packages"
   ]
  },
  {
   "cell_type": "code",
   "execution_count": null,
   "metadata": {
    "scrolled": true
   },
   "outputs": [],
   "source": [
    "from aif360.metrics import BinaryLabelDatasetMetric\n",
    "from aif360.metrics import ClassificationMetric\n",
    "from sklearn.preprocessing import StandardScaler\n",
    "from sklearn.linear_model import LogisticRegression\n",
    "from Code.utility import get_data, get_metrics\n",
    "import warnings\n",
    "from sklearn import tree\n",
    "warnings.filterwarnings('ignore')"
   ]
  },
  {
   "cell_type": "markdown",
   "metadata": {},
   "source": [
    "# 2) Load Dataset\n",
    "Divide in train-test-validation set"
   ]
  },
  {
   "cell_type": "code",
   "execution_count": 10,
   "metadata": {},
   "outputs": [
    {
     "name": "stderr",
     "output_type": "stream",
     "text": [
      "WARNING:root:Missing Data: 3620 rows removed from AdultDataset.\n"
     ]
    }
   ],
   "source": [
    "dataset_used = \"adult\"\n",
    "attr = \"sex\"\n",
    "dataset_orig, privileged_groups,unprivileged_groups,optim_options = get_data(dataset_used, attr)\n",
    "dataset_orig_train, dataset_orig_test = dataset_orig.split([0.7], shuffle=True)\n",
    "dataset_orig_test,dataset_orig_valid = dataset_orig_test.split([0.5], shuffle=True)\n",
    "\n",
    "# Copies are needed later on to determine fairness and accuracy\n",
    "dataset_orig_test_pred = dataset_orig_test.copy(deepcopy=True)\n",
    "dataset_orig_train_pred = dataset_orig_train.copy(deepcopy=True)\n",
    "dataset_orig_valid_pred = dataset_orig_valid.copy(deepcopy=True)"
   ]
  },
  {
   "cell_type": "markdown",
   "metadata": {},
   "source": [
    "# 3) Train Default classification model"
   ]
  },
  {
   "cell_type": "code",
   "execution_count": 11,
   "metadata": {},
   "outputs": [],
   "source": [
    "clf = LogisticRegression()\n",
    "#clf = tree.DecisionTreeClassifier(random_state=1)\n",
    "clf = clf.fit(dataset_orig_train.features, dataset_orig_train.labels)"
   ]
  },
  {
   "cell_type": "markdown",
   "metadata": {},
   "source": [
    "## 3.1) Determine performance on the test set"
   ]
  },
  {
   "cell_type": "code",
   "execution_count": 12,
   "metadata": {},
   "outputs": [],
   "source": [
    "acc,stat,aod,eod = get_metrics(clf,dataset_orig_test,dataset_orig_test_pred,unprivileged_groups,privileged_groups)"
   ]
  },
  {
   "cell_type": "code",
   "execution_count": 13,
   "metadata": {},
   "outputs": [
    {
     "name": "stdout",
     "output_type": "stream",
     "text": [
      "Performance of classification model before post-processing\n",
      "Accuracy: 0.8375350140056023\n",
      "Statistical Parity: 0.1884282294232028\n",
      "Average Odds Difference: 0.11315377465774162\n",
      "Equal Opportunity Difference: 0.13943344265924912\n"
     ]
    }
   ],
   "source": [
    "print (\"Performance of classification model before post-processing\")\n",
    "print (\"Accuracy:\",acc)\n",
    "print (\"Statistical Parity:\",stat)\n",
    "print (\"Average Odds Difference:\",aod)\n",
    "print (\"Equal Opportunity Difference:\",eod)"
   ]
  },
  {
   "cell_type": "markdown",
   "metadata": {},
   "source": [
    "# Apply optimization"
   ]
  },
  {
   "cell_type": "code",
   "execution_count": 14,
   "metadata": {},
   "outputs": [],
   "source": [
    "from Code.optimize import optimize_dt,optimize_lr\n",
    "# Optimze for accuracy and fairness metric 0 = SPD; 1 = AOD, 2 = EOD.\n",
    "#optimized_clf = optimize_dt(clf, dataset_orig_valid, dataset_orig_valid_pred,unprivileged_groups,privileged_groups,operations = 2500, fairness_metric = 1)\n",
    "optimized_clf = optimize_lr(clf, dataset_orig_valid, dataset_orig_valid_pred,unprivileged_groups,privileged_groups,operations = 2500, fairness_metric = 0)"
   ]
  },
  {
   "cell_type": "code",
   "execution_count": 15,
   "metadata": {},
   "outputs": [
    {
     "name": "stdout",
     "output_type": "stream",
     "text": [
      "Performance of classification model after post-processing\n",
      "Accuracy: 0.83812472357364\n",
      "Statistical Parity: 0.17173730173609442\n",
      "Average Odds Difference: 0.10452686563725203\n",
      "Equal Opportunity Difference: 0.13734656315301474\n"
     ]
    }
   ],
   "source": [
    "acc,stat,aod,eod = get_metrics(optimized_clf,dataset_orig_test,dataset_orig_test_pred,unprivileged_groups,privileged_groups)\n",
    "print (\"Performance of classification model after post-processing\")\n",
    "print (\"Accuracy:\",acc)\n",
    "print (\"Statistical Parity:\",stat)\n",
    "print (\"Average Odds Difference:\",aod)\n",
    "print (\"Equal Opportunity Difference:\",eod)"
   ]
  }
 ],
 "metadata": {
  "kernelspec": {
   "display_name": "Python 3",
   "language": "python",
   "name": "python3"
  },
  "language_info": {
   "codemirror_mode": {
    "name": "ipython",
    "version": 3
   },
   "file_extension": ".py",
   "mimetype": "text/x-python",
   "name": "python",
   "nbconvert_exporter": "python",
   "pygments_lexer": "ipython3",
   "version": "3.7.4"
  }
 },
 "nbformat": 4,
 "nbformat_minor": 4
}
